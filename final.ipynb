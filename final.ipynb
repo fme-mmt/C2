{
 "cells": [
  {
   "cell_type": "code",
   "execution_count": 1,
   "metadata": {
    "collapsed": false
   },
   "outputs": [],
   "source": [
    "from sympy import sin, cos, pi, symbols, Eq\n",
    "from sympy import solve, Matrix, sqrt"
   ]
  },
  {
   "cell_type": "markdown",
   "metadata": {},
   "source": [
    "# Problema 1"
   ]
  },
  {
   "cell_type": "markdown",
   "metadata": {},
   "source": [
    "## (a) Parametrització "
   ]
  },
  {
   "cell_type": "code",
   "execution_count": 2,
   "metadata": {
    "collapsed": false
   },
   "outputs": [],
   "source": [
    "x, y, z, t = symbols('x y z t', real=True)"
   ]
  },
  {
   "cell_type": "code",
   "execution_count": 26,
   "metadata": {
    "collapsed": false
   },
   "outputs": [
    {
     "data": {
      "text/plain": [
       "[x**2 + y**2 == 1, y**2 + z**2 == 1]"
      ]
     },
     "execution_count": 26,
     "metadata": {},
     "output_type": "execute_result"
    }
   ],
   "source": [
    "eqs = [Eq(x**2 + y**2, 1), Eq(y**2 + z**2, 1)]; eqs"
   ]
  },
  {
   "cell_type": "markdown",
   "metadata": {},
   "source": [
    "De la primera equació es veu que podem usar $x = \\cos t$ i $y = \\sin t$ per a $t\\in[0,2\\pi]$ com de costum.\n",
    "Restant les 2 equacions obtenim que $z=\\pm x$.\n",
    "Alternativement es pot substituir $y$ a la segona i deduiriem també que $z = \\pm\\cos t$"
   ]
  },
  {
   "cell_type": "code",
   "execution_count": 4,
   "metadata": {
    "collapsed": false
   },
   "outputs": [],
   "source": [
    "r1 = {x:cos(t), y:sin(t),z: -cos(t)}\n",
    "r2 = {x:cos(t), y:sin(t),z: cos(t)}"
   ]
  },
  {
   "cell_type": "markdown",
   "metadata": {},
   "source": [
    "Les dues corbes parametritzades compleixen les equacions:"
   ]
  },
  {
   "cell_type": "code",
   "execution_count": 5,
   "metadata": {
    "collapsed": false
   },
   "outputs": [],
   "source": [
    "for r in (r1,r2):\n",
    "    assert all(e.subs(r).simplify() for e in eqs)"
   ]
  },
  {
   "cell_type": "markdown",
   "metadata": {},
   "source": [
    "## (b) Punts d'intersecció"
   ]
  },
  {
   "cell_type": "markdown",
   "metadata": {},
   "source": [
    "Igualem les components de $r_1(t)=r_2(s)$ i eliminem la solució trivial $s=t$."
   ]
  },
  {
   "cell_type": "code",
   "execution_count": 25,
   "metadata": {
    "collapsed": false
   },
   "outputs": [
    {
     "data": {
      "text/plain": [
       "[cos(t) == cos(s), sin(t) == sin(s), -cos(t) == cos(s)]"
      ]
     },
     "execution_count": 25,
     "metadata": {},
     "output_type": "execute_result"
    }
   ],
   "source": [
    "s = symbols('s', real=True)\n",
    "eqi = []\n",
    "for c in (x,y,z):\n",
    "    e = Eq(c.subs(r1), c.subs(r2).subs(t,s))\n",
    "    eqi.append(e)\n",
    "eqi"
   ]
  },
  {
   "cell_type": "markdown",
   "metadata": {},
   "source": [
    "Les dues primeres equacions conjuntament forcen que $s=t$, però llavors la tercera diu $-\\cos t = \\cos t$.\n",
    "Això només passarà si $\\cos t = 0$, és a dir si $t= \\pi/2, 3\\pi/2$."
   ]
  },
  {
   "cell_type": "code",
   "execution_count": 8,
   "metadata": {
    "collapsed": false
   },
   "outputs": [
    {
     "name": "stdout",
     "output_type": "stream",
     "text": [
      "(0, 1, 0)\n",
      "(0, -1, 0)\n"
     ]
    }
   ],
   "source": [
    "ti = (pi/2, 3*pi/2)\n",
    "punt = Matrix([x,y,z])\n",
    "p1 = punt.subs(r1)\n",
    "p2 = punt.subs(r2)\n",
    "\n",
    "for u in ti: \n",
    "    assert p1.subs(t,u) == p2.subs(t,u)\n",
    "    print tuple(p1.subs(t,u))"
   ]
  },
  {
   "cell_type": "markdown",
   "metadata": {},
   "source": [
    "## (c) Extrems dels radis curvatura"
   ]
  },
  {
   "cell_type": "markdown",
   "metadata": {},
   "source": [
    "Observem que les dues corbes són isomètriques (via $z\\mapsto -z$), per tant només cal estudiar-ne una.\n",
    "\n",
    "$\\vec r'(t)$ i $\\vec r''(t)$ són"
   ]
  },
  {
   "cell_type": "code",
   "execution_count": 9,
   "metadata": {
    "collapsed": false
   },
   "outputs": [
    {
     "name": "stdout",
     "output_type": "stream",
     "text": [
      "Matrix([[-sin(t)], [cos(t)], [-sin(t)]])\n",
      "Matrix([[-cos(t)], [-sin(t)], [-cos(t)]])\n"
     ]
    }
   ],
   "source": [
    "rd = p2.diff(t); print rd\n",
    "rdd = rd.diff(t); print rdd"
   ]
  },
  {
   "cell_type": "markdown",
   "metadata": {},
   "source": [
    "La norma del vector tangent és (_celeritat_):"
   ]
  },
  {
   "cell_type": "code",
   "execution_count": 10,
   "metadata": {
    "collapsed": false
   },
   "outputs": [
    {
     "data": {
      "text/plain": [
       "sqrt(2*sin(t)**2 + cos(t)**2)"
      ]
     },
     "execution_count": 10,
     "metadata": {},
     "output_type": "execute_result"
    }
   ],
   "source": [
    "rd.norm()"
   ]
  },
  {
   "cell_type": "code",
   "execution_count": 11,
   "metadata": {
    "collapsed": false
   },
   "outputs": [
    {
     "data": {
      "text/plain": [
       "sqrt(sin(t)**2 + 1)"
      ]
     },
     "execution_count": 11,
     "metadata": {},
     "output_type": "execute_result"
    }
   ],
   "source": [
    "_.simplify()"
   ]
  },
  {
   "cell_type": "code",
   "execution_count": 12,
   "metadata": {
    "collapsed": false
   },
   "outputs": [
    {
     "data": {
      "text/plain": [
       "Matrix([\n",
       "[-sin(t)**2 - cos(t)**2],\n",
       "[                     0],\n",
       "[ sin(t)**2 + cos(t)**2]])"
      ]
     },
     "execution_count": 12,
     "metadata": {},
     "output_type": "execute_result"
    }
   ],
   "source": [
    "rd.cross(rdd)"
   ]
  },
  {
   "cell_type": "code",
   "execution_count": 13,
   "metadata": {
    "collapsed": false
   },
   "outputs": [
    {
     "data": {
      "text/plain": [
       "sqrt(2)"
      ]
     },
     "execution_count": 13,
     "metadata": {},
     "output_type": "execute_result"
    }
   ],
   "source": [
    "_.norm().simplify()"
   ]
  },
  {
   "cell_type": "code",
   "execution_count": 14,
   "metadata": {
    "collapsed": false
   },
   "outputs": [
    {
     "data": {
      "text/plain": [
       "sqrt(2)/(2*sin(t)**2 + cos(t)**2)**(3/2)"
      ]
     },
     "execution_count": 14,
     "metadata": {},
     "output_type": "execute_result"
    }
   ],
   "source": [
    "_/rd.norm()**3"
   ]
  },
  {
   "cell_type": "code",
   "execution_count": 15,
   "metadata": {
    "collapsed": false
   },
   "outputs": [
    {
     "data": {
      "text/plain": [
       "sqrt(2)/(sin(t)**2 + 1)**(3/2)"
      ]
     },
     "execution_count": 15,
     "metadata": {},
     "output_type": "execute_result"
    }
   ],
   "source": [
    "kappa = _.simplify(); kappa"
   ]
  },
  {
   "cell_type": "markdown",
   "metadata": {},
   "source": [
    "el _radi de curvatura_ és $1/\\kappa$:"
   ]
  },
  {
   "cell_type": "code",
   "execution_count": 16,
   "metadata": {
    "collapsed": false
   },
   "outputs": [
    {
     "data": {
      "text/plain": [
       "sqrt(2)*(sin(t)**2 + 1)**(3/2)/2"
      ]
     },
     "execution_count": 16,
     "metadata": {},
     "output_type": "execute_result"
    }
   ],
   "source": [
    "1/kappa"
   ]
  },
  {
   "cell_type": "markdown",
   "metadata": {},
   "source": [
    "D'aquí és veu que els extrems seran quan $\\sin t=0$ o $\\sin t =\\pm1$:"
   ]
  },
  {
   "cell_type": "code",
   "execution_count": 17,
   "metadata": {
    "collapsed": false
   },
   "outputs": [
    {
     "data": {
      "text/plain": [
       "[sqrt(2)/2, 2]"
      ]
     },
     "execution_count": 17,
     "metadata": {},
     "output_type": "execute_result"
    }
   ],
   "source": [
    "[1/kappa.subs(t,u) for u in (0,pi/2)]"
   ]
  },
  {
   "cell_type": "markdown",
   "metadata": {},
   "source": [
    "* Però també es podria derivar i igualar a zero:"
   ]
  },
  {
   "cell_type": "code",
   "execution_count": 19,
   "metadata": {
    "collapsed": false
   },
   "outputs": [
    {
     "data": {
      "text/plain": [
       "3*sqrt(-cos(2*t) + 3)*sin(2*t)/4"
      ]
     },
     "execution_count": 19,
     "metadata": {},
     "output_type": "execute_result"
    }
   ],
   "source": [
    "(1/kappa).diff(t).simplify()"
   ]
  },
  {
   "cell_type": "markdown",
   "metadata": {},
   "source": [
    "... que només s'anul·la quan $t=k\\pi/2$, per a $k=0,1,2,3$."
   ]
  },
  {
   "cell_type": "markdown",
   "metadata": {},
   "source": [
    "## (d) Digueu si les corbes són planes"
   ]
  },
  {
   "cell_type": "markdown",
   "metadata": {},
   "source": [
    "* Una manera directa de fer-ho és observar que $r_1$ és dins del pla $x + z=0$ i que $r_2$ és dins de $x -z = 0$."
   ]
  },
  {
   "cell_type": "markdown",
   "metadata": {},
   "source": [
    "* Una altra manera (molt més llarga) és calcular-ne la _torsió_ i comprovar que doni zero."
   ]
  },
  {
   "cell_type": "code",
   "execution_count": 20,
   "metadata": {
    "collapsed": false
   },
   "outputs": [
    {
     "data": {
      "text/plain": [
       "Matrix([\n",
       "[ sin(t)],\n",
       "[-cos(t)],\n",
       "[ sin(t)]])"
      ]
     },
     "execution_count": 20,
     "metadata": {},
     "output_type": "execute_result"
    }
   ],
   "source": [
    "rddd = rdd.diff(t); rddd"
   ]
  },
  {
   "cell_type": "code",
   "execution_count": 21,
   "metadata": {
    "collapsed": false
   },
   "outputs": [
    {
     "data": {
      "text/plain": [
       "Matrix([\n",
       "[-sin(t),  cos(t), -sin(t)],\n",
       "[-cos(t), -sin(t), -cos(t)],\n",
       "[-cos(t), -sin(t), -cos(t)]])"
      ]
     },
     "execution_count": 21,
     "metadata": {},
     "output_type": "execute_result"
    }
   ],
   "source": [
    "Matrix([u.transpose() for u in (rd,rdd,rdd)])"
   ]
  },
  {
   "cell_type": "code",
   "execution_count": 22,
   "metadata": {
    "collapsed": false
   },
   "outputs": [
    {
     "data": {
      "text/plain": [
       "0"
      ]
     },
     "execution_count": 22,
     "metadata": {},
     "output_type": "execute_result"
    }
   ],
   "source": [
    "_.det()"
   ]
  },
  {
   "cell_type": "markdown",
   "metadata": {},
   "source": [
    "Aquest determinant (que és igual a $(\\vec r'\\times\\vec r'')\\cdot \\vec r'''$) és el que surt al numerador de la fórmula de $\\tau$. Per tant la corba és plana."
   ]
  },
  {
   "cell_type": "markdown",
   "metadata": {},
   "source": [
    "## (e) Radi de la bola més grossa"
   ]
  },
  {
   "cell_type": "markdown",
   "metadata": {},
   "source": [
    "### Per Lagrange"
   ]
  },
  {
   "cell_type": "markdown",
   "metadata": {},
   "source": [
    "Es tracta de trobar quina és la distància mínima a l'origen de coordenades d'un punt de la intersecció dels dos cilindres.\n",
    "Una bola centrada a l'origen amb radi més gran contindrà necessàriament aquest punt i, per tant, ja no serà vàlida.\n",
    "\n",
    "Plantegem la _Laplaciana_ amb dues condicions:\n",
    "$$\\lambda \\left(x^{2} + y^{2} - 1\\right) + \\mu \\left(y^{2} + z^{2} - 1\\right) + x^{2} + y^{2} + z^{2}$$"
   ]
  },
  {
   "cell_type": "code",
   "execution_count": 27,
   "metadata": {
    "collapsed": false
   },
   "outputs": [
    {
     "data": {
      "text/plain": [
       "lambda*(x**2 + y**2 - 1) + mu*(y**2 + z**2 - 1) + x**2 + y**2 + z**2"
      ]
     },
     "execution_count": 27,
     "metadata": {},
     "output_type": "execute_result"
    }
   ],
   "source": [
    "l,m = symbols('lambda mu')\n",
    "from sympy import latex\n",
    "\n",
    "L = x**2 + y**2 + z**2 + sum(g*(e.lhs - e.rhs) for g,e in zip((l,m), eqs)); L"
   ]
  },
  {
   "cell_type": "markdown",
   "metadata": {},
   "source": [
    "El sistema que s'ha de resoldre és $\\nabla L = \\vec0$:"
   ]
  },
  {
   "cell_type": "code",
   "execution_count": 39,
   "metadata": {
    "collapsed": false
   },
   "outputs": [
    {
     "data": {
      "text/plain": [
       "[2*x*(lambda + 1) == 0,\n",
       " 2*y*(lambda + mu + 1) == 0,\n",
       " 2*z*(mu + 1) == 0,\n",
       " x**2 + y**2 - 1 == 0,\n",
       " y**2 + z**2 - 1 == 0]"
      ]
     },
     "execution_count": 39,
     "metadata": {},
     "output_type": "execute_result"
    }
   ],
   "source": [
    "sols = []\n",
    "leqs = [Eq(L.diff(v).factor()) for v in (x,y,z,l,m)]; leqs"
   ]
  },
  {
   "cell_type": "markdown",
   "metadata": {},
   "source": [
    "la tercera equació ens diu que $z=0$ o $\\mu = -1$.\n",
    "\n",
    "Anem cas per cas:"
   ]
  },
  {
   "cell_type": "markdown",
   "metadata": {},
   "source": [
    "* Cas $z=0$:"
   ]
  },
  {
   "cell_type": "code",
   "execution_count": 40,
   "metadata": {
    "collapsed": false
   },
   "outputs": [
    {
     "data": {
      "text/plain": [
       "[2*x*(lambda + 1) == 0,\n",
       " 2*y*(lambda + mu + 1) == 0,\n",
       " x**2 + y**2 - 1 == 0,\n",
       " y**2 - 1 == 0]"
      ]
     },
     "execution_count": 40,
     "metadata": {},
     "output_type": "execute_result"
    }
   ],
   "source": [
    "sol = {z:0}\n",
    "ez = [e.subs(sol) for e in leqs if e.subs(sol) != True]; ez"
   ]
  },
  {
   "cell_type": "markdown",
   "metadata": {},
   "source": [
    "Resolem per a $y$ a la darrera equació:"
   ]
  },
  {
   "cell_type": "code",
   "execution_count": 41,
   "metadata": {
    "collapsed": false
   },
   "outputs": [
    {
     "data": {
      "text/plain": [
       "[{y: -1}, {y: 1}]"
      ]
     },
     "execution_count": 41,
     "metadata": {},
     "output_type": "execute_result"
    }
   ],
   "source": [
    "ys = solve(ez[-1],y, dict=True); ys"
   ]
  },
  {
   "cell_type": "code",
   "execution_count": 42,
   "metadata": {
    "collapsed": false
   },
   "outputs": [
    {
     "name": "stdout",
     "output_type": "stream",
     "text": [
      "{y: -1, z: 0} [2*x*(lambda + 1) == 0, -2*lambda - 2*mu - 2 == 0, x**2 == 0]\n",
      "{y: 1, z: 0} [2*x*(lambda + 1) == 0, 2*lambda + 2*mu + 2 == 0, x**2 == 0]\n"
     ]
    }
   ],
   "source": [
    "for u in ys: \n",
    "    sol.update(u)\n",
    "    print sol,[e.subs(sol) for e in ez if e.subs(sol) != True]"
   ]
  },
  {
   "cell_type": "markdown",
   "metadata": {},
   "source": [
    "Les dues alternatives forcen que $x=0$ a la darrera equació:"
   ]
  },
  {
   "cell_type": "code",
   "execution_count": 43,
   "metadata": {
    "collapsed": false
   },
   "outputs": [
    {
     "name": "stdout",
     "output_type": "stream",
     "text": [
      "(0, -1, 0)\n",
      "[-2*lambda - 2*mu - 2 == 0]\n",
      "(0, 1, 0)\n",
      "[2*lambda + 2*mu + 2 == 0]\n"
     ]
    }
   ],
   "source": [
    "sol[x] = 0\n",
    "for u in ys: \n",
    "    sol.update(u)\n",
    "    sols.append(dict(sol))\n",
    "    print tuple(punt.subs(sol))\n",
    "    print [e.subs(sol) for e in ez if e.subs(sol) != True]"
   ]
  },
  {
   "cell_type": "markdown",
   "metadata": {
    "collapsed": false
   },
   "source": [
    "i les dues alternatives són possibles. Això ens dóna 2 punts.\n",
    "\n",
    "* Cas $\\mu = -1$:"
   ]
  },
  {
   "cell_type": "code",
   "execution_count": 44,
   "metadata": {
    "collapsed": false
   },
   "outputs": [
    {
     "data": {
      "text/plain": [
       "[2*x*(lambda + 1) == 0,\n",
       " 2*lambda*y == 0,\n",
       " x**2 + y**2 - 1 == 0,\n",
       " y**2 + z**2 - 1 == 0]"
      ]
     },
     "execution_count": 44,
     "metadata": {},
     "output_type": "execute_result"
    }
   ],
   "source": [
    "sol = {m: -1}\n",
    "em = [e.subs(sol) for e in leqs if e.subs(sol) != True]; em"
   ]
  },
  {
   "cell_type": "markdown",
   "metadata": {},
   "source": [
    "Observant les dues primeres veiem que $x=0$ o $\\lambda=-1$ combinat amb $\\lambda=0$ o $y=0$.\n",
    "Examinant les alternatives de $\\lambda$:\n",
    "\n",
    "* Cas $\\lambda=0$, $\\mu = -1$:"
   ]
  },
  {
   "cell_type": "code",
   "execution_count": 45,
   "metadata": {
    "collapsed": false
   },
   "outputs": [
    {
     "data": {
      "text/plain": [
       "[2*x == 0, x**2 + y**2 - 1 == 0, y**2 + z**2 - 1 == 0]"
      ]
     },
     "execution_count": 45,
     "metadata": {},
     "output_type": "execute_result"
    }
   ],
   "source": [
    "sol.update({l: 0})\n",
    "[e.subs(sol) for e in leqs if e.subs(sol) != True]"
   ]
  },
  {
   "cell_type": "markdown",
   "metadata": {},
   "source": [
    "d'aquí es deduix que $x=0$:"
   ]
  },
  {
   "cell_type": "code",
   "execution_count": 46,
   "metadata": {
    "collapsed": false
   },
   "outputs": [
    {
     "data": {
      "text/plain": [
       "{y**2 - 1 == 0, y**2 + z**2 - 1 == 0}"
      ]
     },
     "execution_count": 46,
     "metadata": {},
     "output_type": "execute_result"
    }
   ],
   "source": [
    "sol.update({x: 0})\n",
    "set(e.subs(sol) for e in leqs if e.subs(sol) != True)"
   ]
  },
  {
   "cell_type": "markdown",
   "metadata": {},
   "source": [
    "Ara resulta que $y^2=1$, amb la qual cosa $z=0$:"
   ]
  },
  {
   "cell_type": "code",
   "execution_count": 47,
   "metadata": {
    "collapsed": false
   },
   "outputs": [
    {
     "data": {
      "text/plain": [
       "{y**2 - 1 == 0}"
      ]
     },
     "execution_count": 47,
     "metadata": {},
     "output_type": "execute_result"
    }
   ],
   "source": [
    "sol.update({z:0})\n",
    "set(e.subs(sol) for e in leqs if e.subs(sol) != True)"
   ]
  },
  {
   "cell_type": "code",
   "execution_count": 48,
   "metadata": {
    "collapsed": false
   },
   "outputs": [
    {
     "data": {
      "text/plain": [
       "[{y: -1}, {y: 1}]"
      ]
     },
     "execution_count": 48,
     "metadata": {},
     "output_type": "execute_result"
    }
   ],
   "source": [
    "solve(_, dict=True)"
   ]
  },
  {
   "cell_type": "markdown",
   "metadata": {},
   "source": [
    "i obtenim els punts següents (que, de fet, ja havien sortit):"
   ]
  },
  {
   "cell_type": "code",
   "execution_count": 49,
   "metadata": {
    "collapsed": false
   },
   "outputs": [
    {
     "name": "stdout",
     "output_type": "stream",
     "text": [
      "(0, -1, 0)\n",
      "(0, 1, 0)\n"
     ]
    }
   ],
   "source": [
    "for u in _:\n",
    "    sol.update(u)\n",
    "    print tuple(punt.subs(sol))\n",
    "    sols.append(dict(sol))"
   ]
  },
  {
   "cell_type": "markdown",
   "metadata": {},
   "source": [
    "* Cas $\\lambda = \\mu = -1$:"
   ]
  },
  {
   "cell_type": "code",
   "execution_count": 50,
   "metadata": {
    "collapsed": false
   },
   "outputs": [
    {
     "data": {
      "text/plain": [
       "{-2*y == 0, y**2 + z**2 - 1 == 0, x**2 + y**2 - 1 == 0}"
      ]
     },
     "execution_count": 50,
     "metadata": {},
     "output_type": "execute_result"
    }
   ],
   "source": [
    "sol = {m: -1, l:-1}\n",
    "set(e.subs(sol) for e in leqs if e.subs(sol) != True)"
   ]
  },
  {
   "cell_type": "markdown",
   "metadata": {},
   "source": [
    "Ara veiem que per força $y=0$:"
   ]
  },
  {
   "cell_type": "code",
   "execution_count": 51,
   "metadata": {
    "collapsed": false
   },
   "outputs": [
    {
     "data": {
      "text/plain": [
       "{x**2 - 1 == 0, z**2 - 1 == 0}"
      ]
     },
     "execution_count": 51,
     "metadata": {},
     "output_type": "execute_result"
    }
   ],
   "source": [
    "sol[y] = 0\n",
    "set(e.subs(sol) for e in leqs if e.subs(sol) != True)"
   ]
  },
  {
   "cell_type": "code",
   "execution_count": 52,
   "metadata": {
    "collapsed": false
   },
   "outputs": [
    {
     "data": {
      "text/plain": [
       "[{x: -1, z: -1}, {x: -1, z: 1}, {x: 1, z: -1}, {x: 1, z: 1}]"
      ]
     },
     "execution_count": 52,
     "metadata": {},
     "output_type": "execute_result"
    }
   ],
   "source": [
    "solve(_, dict=True)"
   ]
  },
  {
   "cell_type": "markdown",
   "metadata": {},
   "source": [
    "Això ens porta a $x=\\pm1$, $z=\\pm1$ i obtenim els punts:"
   ]
  },
  {
   "cell_type": "code",
   "execution_count": 53,
   "metadata": {
    "collapsed": false
   },
   "outputs": [
    {
     "name": "stdout",
     "output_type": "stream",
     "text": [
      "(-1, 0, -1)\n",
      "(-1, 0, 1)\n",
      "(1, 0, -1)\n",
      "(1, 0, 1)\n"
     ]
    }
   ],
   "source": [
    "for u in _:\n",
    "    sol.update(u)\n",
    "    print tuple(punt.subs(sol))\n",
    "    sols.append(dict(sol))"
   ]
  },
  {
   "cell_type": "markdown",
   "metadata": {},
   "source": [
    "ja hem mirat totes les combinacions.\n",
    "Ara el que queda és avaluar la distància a cada punt possible i quedar-nos amb el valor més petit:"
   ]
  },
  {
   "cell_type": "code",
   "execution_count": 54,
   "metadata": {
    "collapsed": false
   },
   "outputs": [
    {
     "data": {
      "text/plain": [
       "sqrt(x**2 + y**2 + z**2)"
      ]
     },
     "execution_count": 54,
     "metadata": {},
     "output_type": "execute_result"
    }
   ],
   "source": [
    "f = punt.norm(); f"
   ]
  },
  {
   "cell_type": "code",
   "execution_count": 55,
   "metadata": {
    "collapsed": false
   },
   "outputs": [
    {
     "name": "stdout",
     "output_type": "stream",
     "text": [
      "1 (0, -1, 0)\n",
      "1 (0, 1, 0)\n",
      "1 (0, -1, 0)\n",
      "1 (0, 1, 0)\n",
      "sqrt(2) (-1, 0, -1)\n",
      "sqrt(2) (-1, 0, 1)\n",
      "sqrt(2) (1, 0, -1)\n",
      "sqrt(2) (1, 0, 1)\n"
     ]
    }
   ],
   "source": [
    "for s in sols:\n",
    "    d = f.subs(s)\n",
    "    print d, tuple(punt.subs(s))"
   ]
  },
  {
   "cell_type": "markdown",
   "metadata": {},
   "source": [
    "### Directament"
   ]
  },
  {
   "cell_type": "markdown",
   "metadata": {},
   "source": [
    "Aquesta alternativa no és legal ja que es demanava que és fes per _Lagrange_ però correcta:"
   ]
  },
  {
   "cell_type": "code",
   "execution_count": 57,
   "metadata": {
    "collapsed": false
   },
   "outputs": [
    {
     "data": {
      "text/plain": [
       "sin(t)**2 + 2*cos(t)**2"
      ]
     },
     "execution_count": 57,
     "metadata": {},
     "output_type": "execute_result"
    }
   ],
   "source": [
    "d2 = punt.subs(r1).norm()**2; d2"
   ]
  },
  {
   "cell_type": "code",
   "execution_count": 58,
   "metadata": {
    "collapsed": false
   },
   "outputs": [
    {
     "data": {
      "text/plain": [
       "-2*sin(t)*cos(t)"
      ]
     },
     "execution_count": 58,
     "metadata": {},
     "output_type": "execute_result"
    }
   ],
   "source": [
    "d2.diff(t)"
   ]
  },
  {
   "cell_type": "code",
   "execution_count": 59,
   "metadata": {
    "collapsed": false
   },
   "outputs": [
    {
     "name": "stdout",
     "output_type": "stream",
     "text": [
      "0 (1, 0, -1) sqrt(2)\n",
      "pi/2 (0, 1, 0) 1\n",
      "pi (-1, 0, 1) sqrt(2)\n",
      "3*pi/2 (0, -1, 0) 1\n"
     ]
    }
   ],
   "source": [
    "for u in solve(_,t):\n",
    "    print u, tuple(punt.subs(r1).subs(t,u)), sqrt(d2.subs(t,u))"
   ]
  },
  {
   "cell_type": "markdown",
   "metadata": {},
   "source": [
    "# Problema 2"
   ]
  },
  {
   "cell_type": "code",
   "execution_count": 393,
   "metadata": {
    "collapsed": false
   },
   "outputs": [],
   "source": [
    "x,y,z = symbols('x y z', real=True)\n",
    "a = symbols('a', real=True)\n",
    "r = symbols('r', positive=True)\n",
    "l = symbols('lambda', real=True)\n",
    "\n",
    "f = 6 + x**2 - y**2 + 2*x*y"
   ]
  },
  {
   "cell_type": "markdown",
   "metadata": {},
   "source": [
    "## (a) Altura de l'edifici\n",
    "\n",
    "El problema és calcular el màxim de $f(x,y) = 6 + x^2 - y^2 + 2xy$ dins del compacte $R = \\{(x,y)\\mid x^2 + y^2 \\leq4\\}$. \n",
    "\n",
    "Anem pas a pas:\n",
    "\n",
    "1. Estudiem els posibles extrems a l'interior de $R$\n",
    "\n",
    "2. Estudiem els possibles extrems a la frontera de $R$.\n",
    "   Aquest segon cas es pot fer de dues maneres que detallarem d'aquí a un mooment.\n",
    "   \n",
    "   \n",
    "### Estudi de l'interior\n",
    "\n",
    "Busquem els _punts crítics_ imposant $\\nabla f = \\vec 0$:"
   ]
  },
  {
   "cell_type": "code",
   "execution_count": 394,
   "metadata": {
    "collapsed": false
   },
   "outputs": [
    {
     "data": {
      "text/plain": [
       "[2*x + 2*y, 2*x - 2*y]"
      ]
     },
     "execution_count": 394,
     "metadata": {},
     "output_type": "execute_result"
    }
   ],
   "source": [
    "[diff(f,v) for v in (x,y)]"
   ]
  },
  {
   "cell_type": "markdown",
   "metadata": {},
   "source": [
    "això correspon a un sistema lineal amb solució única:"
   ]
  },
  {
   "cell_type": "code",
   "execution_count": 395,
   "metadata": {
    "collapsed": false
   },
   "outputs": [
    {
     "name": "stdout",
     "output_type": "stream",
     "text": [
      "{y: 0, x: 0}\n"
     ]
    }
   ],
   "source": [
    "sols = []\n",
    "[s] = solve(_,dict=True); print s\n",
    "sols.append(s)"
   ]
  },
  {
   "cell_type": "markdown",
   "metadata": {},
   "source": [
    "### Estudi de la frontera\n",
    "\n",
    "El problema a la frontera està condicinat per $x^2 + y^2 = 4$ i com deiem es pot fer de dues maneres:\n",
    "\n",
    "#### Pel mètode dels _multiplicadors de Lagrange_\n",
    "\n",
    "Posant com a _Lagrangiana_: $$L = - \\lambda \\left(x^{2} + y^{2} - 4\\right) + x^{2} + 2 x y - y^{2} + 6$$"
   ]
  },
  {
   "cell_type": "code",
   "execution_count": 396,
   "metadata": {
    "collapsed": false
   },
   "outputs": [
    {
     "data": {
      "text/plain": [
       "[-2*(lambda*x - x - y), 2*(-lambda*y + x - y), -x**2 - y**2 + 4]"
      ]
     },
     "execution_count": 396,
     "metadata": {},
     "output_type": "execute_result"
    }
   ],
   "source": [
    "L = f - l*(x**2 + y**2 - 4)\n",
    "eqs = [diff(L,c).factor() for c in (x,y,l)]\n",
    "eqs"
   ]
  },
  {
   "cell_type": "code",
   "execution_count": 397,
   "metadata": {
    "collapsed": false
   },
   "outputs": [
    {
     "data": {
      "text/plain": [
       "Matrix([\n",
       "[-2*lambda + 2,             2],\n",
       "[            2, -2*lambda - 2]])"
      ]
     },
     "execution_count": 397,
     "metadata": {},
     "output_type": "execute_result"
    }
   ],
   "source": [
    "Matrix([[diff(c,v) for v in (x,y)] for c in eqs[:2]])"
   ]
  },
  {
   "cell_type": "code",
   "execution_count": 398,
   "metadata": {
    "collapsed": false
   },
   "outputs": [
    {
     "data": {
      "text/plain": [
       "4*lambda**2 - 8"
      ]
     },
     "execution_count": 398,
     "metadata": {},
     "output_type": "execute_result"
    }
   ],
   "source": [
    "_.det()"
   ]
  },
  {
   "cell_type": "code",
   "execution_count": 399,
   "metadata": {
    "collapsed": false
   },
   "outputs": [
    {
     "data": {
      "text/plain": [
       "[{lambda: -sqrt(2)}, {lambda: sqrt(2)}]"
      ]
     },
     "execution_count": 399,
     "metadata": {},
     "output_type": "execute_result"
    }
   ],
   "source": [
    "solve(_, dict=True)"
   ]
  },
  {
   "cell_type": "markdown",
   "metadata": {},
   "source": [
    "Com abans procedim cas per cas:\n",
    "\n",
    "* $\\lambda=\\pm\\sqrt2$\n",
    "\n",
    "\n",
    "   En aquest cas el sistema lineal de les 2 primeres equacions és indeterminat i podem pendre qualsevol de les equacions:"
   ]
  },
  {
   "cell_type": "code",
   "execution_count": 400,
   "metadata": {
    "collapsed": false
   },
   "outputs": [
    {
     "name": "stdout",
     "output_type": "stream",
     "text": [
      "{y: -sqrt(2)/sqrt(-sqrt(2) + 2), x: -sqrt(2)*y + y, lambda: -sqrt(2)}\n",
      "{y: sqrt(2)/sqrt(-sqrt(2) + 2), x: -sqrt(2)*y + y, lambda: -sqrt(2)}\n",
      "{y: -sqrt(2)/sqrt(sqrt(2) + 2), x: y + sqrt(2)*y, lambda: sqrt(2)}\n",
      "{y: sqrt(2)/sqrt(sqrt(2) + 2), x: y + sqrt(2)*y, lambda: sqrt(2)}\n"
     ]
    }
   ],
   "source": [
    "for u in _:\n",
    "    [s] = solve(eqs[0].subs(u), dict=True)\n",
    "    u.update(s)\n",
    "    e = eqs[-1].subs(u)\n",
    "    for t in solve(e,y,dict=True):\n",
    "        u.update(t)\n",
    "        assert all(e.subs(u).simplify()==0 for e in eqs)\n",
    "        print u\n",
    "        sols.append(u)"
   ]
  },
  {
   "cell_type": "markdown",
   "metadata": {},
   "source": [
    "* Cas $\\lambda^2 \\neq2$\n",
    "\n",
    "   En aquest cas el sistema linieal de dalt només té la solució $x=y=0$, però això no compleix la darrera equació:"
   ]
  },
  {
   "cell_type": "code",
   "execution_count": 401,
   "metadata": {
    "collapsed": false
   },
   "outputs": [
    {
     "data": {
      "text/plain": [
       "[0, 0, 4]"
      ]
     },
     "execution_count": 401,
     "metadata": {},
     "output_type": "execute_result"
    }
   ],
   "source": [
    "sol = {x:0, y:0}\n",
    "[e.subs(sol) for e in eqs]"
   ]
  },
  {
   "cell_type": "code",
   "execution_count": 402,
   "metadata": {
    "collapsed": false
   },
   "outputs": [
    {
     "name": "stdout",
     "output_type": "stream",
     "text": [
      "(0, 0) 6 6.0\n",
      "(sqrt(-sqrt(2) + 2), sqrt(2)/sqrt(-sqrt(2) + 2)) -4*sqrt(2) + 6 0.343145750508\n",
      "(sqrt(-sqrt(2) + 2), sqrt(2)/sqrt(-sqrt(2) + 2)) -4*sqrt(2) + 6 0.343145750508\n",
      "(sqrt(sqrt(2) + 2), sqrt(2)/sqrt(sqrt(2) + 2)) 4*sqrt(2) + 6 11.6568542495\n",
      "(sqrt(sqrt(2) + 2), sqrt(2)/sqrt(sqrt(2) + 2)) 4*sqrt(2) + 6 11.6568542495\n"
     ]
    }
   ],
   "source": [
    "for s in sols:\n",
    "    p = Matrix([x,y]).subs(s)\n",
    "    p.simplify()\n",
    "    zval = f.subs(s).simplify()\n",
    "    print tuple(p), zval, float(zval)"
   ]
  },
  {
   "cell_type": "markdown",
   "metadata": {},
   "source": [
    "#### Parametritzant la frontera\n",
    "\n",
    "Com que la condició $x^2+y^2=4$ correspon a una circumferéncia de radi 2, podem parametrizar-ho com una corba:"
   ]
  },
  {
   "cell_type": "code",
   "execution_count": 415,
   "metadata": {
    "collapsed": false
   },
   "outputs": [
    {
     "data": {
      "text/plain": [
       "4*sqrt(2)*sin(2*a + pi/4) + 6"
      ]
     },
     "execution_count": 415,
     "metadata": {},
     "output_type": "execute_result"
    }
   ],
   "source": [
    "rt = {x: 2*cos(a), y: 2*sin(a)}\n",
    "h = f.subs(rt).simplify()\n",
    "h"
   ]
  },
  {
   "cell_type": "code",
   "execution_count": 416,
   "metadata": {
    "collapsed": false
   },
   "outputs": [
    {
     "data": {
      "text/plain": [
       "8*sqrt(2)*cos(2*a + pi/4)"
      ]
     },
     "execution_count": 416,
     "metadata": {},
     "output_type": "execute_result"
    }
   ],
   "source": [
    "h.diff(a)"
   ]
  },
  {
   "cell_type": "code",
   "execution_count": 417,
   "metadata": {
    "collapsed": false
   },
   "outputs": [
    {
     "data": {
      "text/plain": [
       "[pi/8, 5*pi/8]"
      ]
     },
     "execution_count": 417,
     "metadata": {},
     "output_type": "execute_result"
    }
   ],
   "source": [
    "solve(_,a)"
   ]
  },
  {
   "cell_type": "code",
   "execution_count": 418,
   "metadata": {
    "collapsed": false
   },
   "outputs": [
    {
     "data": {
      "text/plain": [
       "[pi/8, 5*pi/8, 9*pi/8, 13*pi/8]"
      ]
     },
     "execution_count": 418,
     "metadata": {},
     "output_type": "execute_result"
    }
   ],
   "source": [
    "_ + [c + pi for c in _ if c+pi < 2*pi]"
   ]
  },
  {
   "cell_type": "code",
   "execution_count": 419,
   "metadata": {
    "collapsed": false
   },
   "outputs": [
    {
     "name": "stdout",
     "output_type": "stream",
     "text": [
      "(2*sqrt(sqrt(2)/4 + 1/2), 2*sqrt(-sqrt(2)/4 + 1/2)) 11.6568542495\n",
      "(-2*sqrt(-sqrt(2)/4 + 1/2), 2*sqrt(sqrt(2)/4 + 1/2)) 0.343145750508\n",
      "(-2*sqrt(sqrt(2)/4 + 1/2), -2*sqrt(-sqrt(2)/4 + 1/2)) 11.6568542495\n",
      "(2*sqrt(-sqrt(2)/4 + 1/2), -2*sqrt(sqrt(2)/4 + 1/2)) 0.343145750508\n"
     ]
    }
   ],
   "source": [
    "for u in _:\n",
    "    print tuple(Matrix([x,y]).subs(S).subs(a,u)), float(f.subs(S).subs(a,u))"
   ]
  },
  {
   "cell_type": "markdown",
   "metadata": {},
   "source": [
    "#### Quina forma és?"
   ]
  },
  {
   "cell_type": "code",
   "execution_count": 420,
   "metadata": {
    "collapsed": false
   },
   "outputs": [
    {
     "data": {
      "text/plain": [
       "6*w**2 - w*z + x**2 + 2*x*y - y**2"
      ]
     },
     "execution_count": 420,
     "metadata": {},
     "output_type": "execute_result"
    }
   ],
   "source": [
    "w = symbols('w', real=True)\n",
    "fHom = ((f-z).subs({x: x/w, y:y/w, z:z/w})*w**2).expand(); fHom"
   ]
  },
  {
   "cell_type": "code",
   "execution_count": 421,
   "metadata": {
    "collapsed": false
   },
   "outputs": [
    {
     "name": "stdout",
     "output_type": "stream",
     "text": [
      "Matrix([[1, 1, 0, 0], [1, -1, 0, 0], [0, 0, 0, -1/2], [0, 0, -1/2, 6]])\n"
     ]
    }
   ],
   "source": [
    "fq = Matrix([[c.diff(v)/2 for v in (x,y,z,w)] for c in [fHom.diff(u) for u in (x,y,z,w)]] )\n",
    "print fq"
   ]
  },
  {
   "cell_type": "code",
   "execution_count": 422,
   "metadata": {
    "collapsed": false
   },
   "outputs": [
    {
     "name": "stdout",
     "output_type": "stream",
     "text": [
      "-sqrt(2)\n",
      "Matrix([[-1/(1 + sqrt(2))], [1], [0], [0]])\n",
      "sqrt(2)\n",
      "Matrix([[-1/(-sqrt(2) + 1)], [1], [0], [0]])\n",
      "3 + sqrt(37)/2\n",
      "Matrix([[0], [0], [1/(2*(-sqrt(37)/2 - 3))], [1]])\n",
      "-sqrt(37)/2 + 3\n",
      "Matrix([[0], [0], [1/(2*(-3 + sqrt(37)/2))], [1]])\n"
     ]
    }
   ],
   "source": [
    "for l,g,vs in fq.eigenvects():\n",
    "    print l\n",
    "    assert g == 1\n",
    "    print vs[0]"
   ]
  },
  {
   "cell_type": "markdown",
   "metadata": {},
   "source": [
    "## (b) Àrea de la coberta"
   ]
  },
  {
   "cell_type": "code",
   "execution_count": 423,
   "metadata": {
    "collapsed": false
   },
   "outputs": [
    {
     "data": {
      "text/plain": [
       "{y: r*sin(a), x: r*cos(a), z: sqrt(2)*r**2*sin(2*a + pi/4) + 6}"
      ]
     },
     "execution_count": 423,
     "metadata": {},
     "output_type": "execute_result"
    }
   ],
   "source": [
    "from sympy import integrate\n",
    "R ={x: r*cos(a), y: r*sin(a), z: f}\n",
    "R.update({z: R[z].subs(R).simplify()})\n",
    "R"
   ]
  },
  {
   "cell_type": "code",
   "execution_count": 426,
   "metadata": {
    "collapsed": false
   },
   "outputs": [
    {
     "name": "stdout",
     "output_type": "stream",
     "text": [
      "Matrix([[cos(a)], [sin(a)], [2*sqrt(2)*r*sin(2*a + pi/4)]])\n",
      "Matrix([[-r*sin(a)], [r*cos(a)], [2*sqrt(2)*r**2*cos(2*a + pi/4)]])\n"
     ]
    }
   ],
   "source": [
    "Rr = Matrix([diff(c.subs(R), r) for c in (x,y,z)]); print Rr\n",
    "Ra = Matrix([diff(c.subs(R), a) for c in (x,y,z)]); print Ra"
   ]
  },
  {
   "cell_type": "code",
   "execution_count": 427,
   "metadata": {
    "collapsed": false
   },
   "outputs": [
    {
     "name": "stdout",
     "output_type": "stream",
     "text": [
      "Matrix([\n",
      "[-2*sqrt(2)*r**2*sin(a + pi/4)],\n",
      "[-2*sqrt(2)*r**2*cos(a + pi/4)],\n",
      "[                            r]])\n"
     ]
    },
    {
     "data": {
      "text/plain": [
       "r*sqrt(8*r**2 + 1)"
      ]
     },
     "execution_count": 427,
     "metadata": {},
     "output_type": "execute_result"
    }
   ],
   "source": [
    "from sympy import powdenest\n",
    "dR = powdenest(Rr.cross(Ra)).simplify(); print dR\n",
    "dR.norm().simplify()"
   ]
  },
  {
   "cell_type": "code",
   "execution_count": 428,
   "metadata": {
    "collapsed": false
   },
   "outputs": [
    {
     "data": {
      "text/plain": [
       "2*pi*(-1/24 + 11*sqrt(33)/8)"
      ]
     },
     "execution_count": 428,
     "metadata": {},
     "output_type": "execute_result"
    }
   ],
   "source": [
    "integrate(integrate(_, (r,0,2)), (a,0,2*pi))"
   ]
  },
  {
   "cell_type": "code",
   "execution_count": 429,
   "metadata": {
    "collapsed": false
   },
   "outputs": [
    {
     "data": {
      "text/plain": [
       "49.36765908543893"
      ]
     },
     "execution_count": 429,
     "metadata": {},
     "output_type": "execute_result"
    }
   ],
   "source": [
    "float(_)"
   ]
  },
  {
   "cell_type": "markdown",
   "metadata": {},
   "source": [
    "#### Amb rectangulars"
   ]
  },
  {
   "cell_type": "code",
   "execution_count": 430,
   "metadata": {
    "collapsed": false
   },
   "outputs": [
    {
     "data": {
      "text/plain": [
       "Matrix([\n",
       "[-2*x - 2*y],\n",
       "[-2*x + 2*y],\n",
       "[         1]])"
      ]
     },
     "execution_count": 430,
     "metadata": {},
     "output_type": "execute_result"
    }
   ],
   "source": [
    "Matrix([-diff(f,x), -diff(f,y), 1])"
   ]
  },
  {
   "cell_type": "code",
   "execution_count": 431,
   "metadata": {
    "collapsed": false
   },
   "outputs": [
    {
     "data": {
      "text/plain": [
       "sqrt(8*x**2 + 8*y**2 + 1)"
      ]
     },
     "execution_count": 431,
     "metadata": {},
     "output_type": "execute_result"
    }
   ],
   "source": [
    "_.norm().simplify()"
   ]
  },
  {
   "cell_type": "code",
   "execution_count": 432,
   "metadata": {
    "collapsed": false
   },
   "outputs": [
    {
     "data": {
      "text/plain": [
       "sqrt(8*r**2 + 1)"
      ]
     },
     "execution_count": 432,
     "metadata": {},
     "output_type": "execute_result"
    }
   ],
   "source": [
    "_.subs({x: r*cos(a), y: r*sin(a)}).simplify()"
   ]
  },
  {
   "cell_type": "code",
   "execution_count": 433,
   "metadata": {
    "collapsed": false
   },
   "outputs": [
    {
     "data": {
      "text/plain": [
       "2*pi*(-1/24 + 11*sqrt(33)/8)"
      ]
     },
     "execution_count": 433,
     "metadata": {},
     "output_type": "execute_result"
    }
   ],
   "source": [
    "integrate(integrate(_*r, (r,0,2)), (a,0,2*pi))"
   ]
  },
  {
   "cell_type": "markdown",
   "metadata": {},
   "source": [
    "## (c) Àrea lateral"
   ]
  },
  {
   "cell_type": "code",
   "execution_count": 443,
   "metadata": {
    "collapsed": false
   },
   "outputs": [
    {
     "name": "stdout",
     "output_type": "stream",
     "text": [
      "Matrix([[-2*sin(a)], [2*cos(a)], [0]])\n",
      "Matrix([[0], [0], [1]])\n"
     ]
    }
   ],
   "source": [
    "S = {x: 2*cos(a), y:2*sin(a)}\n",
    "Sa = Matrix([diff(c.subs(S), a) for c in (x,y,z)]); print Sa\n",
    "Sz = Matrix([diff(c.subs(S), z) for c in (x,y,z)]); print Sz"
   ]
  },
  {
   "cell_type": "code",
   "execution_count": 444,
   "metadata": {
    "collapsed": false
   },
   "outputs": [
    {
     "name": "stdout",
     "output_type": "stream",
     "text": [
      "Matrix([[2*cos(a)], [2*sin(a)], [0]])\n"
     ]
    },
    {
     "data": {
      "text/plain": [
       "2"
      ]
     },
     "execution_count": 444,
     "metadata": {},
     "output_type": "execute_result"
    }
   ],
   "source": [
    "dS = Sa.cross(Sz); print dS\n",
    "dSn = dS.norm().simplify(); dSn"
   ]
  },
  {
   "cell_type": "code",
   "execution_count": 445,
   "metadata": {
    "collapsed": false
   },
   "outputs": [
    {
     "data": {
      "text/plain": [
       "4*sqrt(2)*sin(2*a + pi/4) + 6"
      ]
     },
     "execution_count": 445,
     "metadata": {},
     "output_type": "execute_result"
    }
   ],
   "source": [
    "zmax = f.subs(S); zmax.simplify()"
   ]
  },
  {
   "cell_type": "code",
   "execution_count": 446,
   "metadata": {
    "collapsed": false
   },
   "outputs": [
    {
     "data": {
      "text/plain": [
       "-8*sin(a)**2 + 16*sin(a)*cos(a) + 8*cos(a)**2 + 12"
      ]
     },
     "execution_count": 446,
     "metadata": {},
     "output_type": "execute_result"
    }
   ],
   "source": [
    "integrate(dSn, (z,0,zmax))"
   ]
  },
  {
   "cell_type": "code",
   "execution_count": 447,
   "metadata": {
    "collapsed": false
   },
   "outputs": [
    {
     "data": {
      "text/plain": [
       "24*pi"
      ]
     },
     "execution_count": 447,
     "metadata": {},
     "output_type": "execute_result"
    }
   ],
   "source": [
    "areaL = integrate(_, (a,0,2*pi)); areaL"
   ]
  },
  {
   "cell_type": "markdown",
   "metadata": {},
   "source": [
    "## (d) Flux de la coberta"
   ]
  },
  {
   "cell_type": "markdown",
   "metadata": {},
   "source": [
    "### Directament"
   ]
  },
  {
   "cell_type": "code",
   "execution_count": 450,
   "metadata": {
    "collapsed": true
   },
   "outputs": [],
   "source": [
    "F = Matrix([x,y,z])"
   ]
  },
  {
   "cell_type": "code",
   "execution_count": 451,
   "metadata": {
    "collapsed": false
   },
   "outputs": [
    {
     "data": {
      "text/plain": [
       "Matrix([\n",
       "[                        r*cos(a)],\n",
       "[                        r*sin(a)],\n",
       "[sqrt(2)*r**2*sin(2*a + pi/4) + 6]])"
      ]
     },
     "execution_count": 451,
     "metadata": {},
     "output_type": "execute_result"
    }
   ],
   "source": [
    "F.subs(R)"
   ]
  },
  {
   "cell_type": "code",
   "execution_count": 452,
   "metadata": {
    "collapsed": false
   },
   "outputs": [
    {
     "data": {
      "text/plain": [
       "Matrix([\n",
       "[-2*sqrt(2)*r**2*sin(a + pi/4)],\n",
       "[-2*sqrt(2)*r**2*cos(a + pi/4)],\n",
       "[                            r]])"
      ]
     },
     "execution_count": 452,
     "metadata": {},
     "output_type": "execute_result"
    }
   ],
   "source": [
    "dR.simplify()"
   ]
  },
  {
   "cell_type": "code",
   "execution_count": 453,
   "metadata": {
    "collapsed": false
   },
   "outputs": [
    {
     "data": {
      "text/plain": [
       "r*(-2*sqrt(2)*r*x*sin(a + pi/4) - 2*sqrt(2)*r*y*cos(a + pi/4) + z)"
      ]
     },
     "execution_count": 453,
     "metadata": {},
     "output_type": "execute_result"
    }
   ],
   "source": [
    "F.dot(dR).simplify()"
   ]
  },
  {
   "cell_type": "code",
   "execution_count": 454,
   "metadata": {
    "collapsed": false
   },
   "outputs": [
    {
     "data": {
      "text/plain": [
       "-16*sqrt(2)*x*sin(a + pi/4)/3 - 16*sqrt(2)*y*cos(a + pi/4)/3 + 2*z"
      ]
     },
     "execution_count": 454,
     "metadata": {},
     "output_type": "execute_result"
    }
   ],
   "source": [
    "integrate(_, (r,0,2))"
   ]
  },
  {
   "cell_type": "code",
   "execution_count": 455,
   "metadata": {
    "collapsed": false
   },
   "outputs": [
    {
     "data": {
      "text/plain": [
       "4*pi*z"
      ]
     },
     "execution_count": 455,
     "metadata": {},
     "output_type": "execute_result"
    }
   ],
   "source": [
    "integrate(_, (a,0,2*pi))"
   ]
  },
  {
   "cell_type": "code",
   "execution_count": 456,
   "metadata": {
    "collapsed": false
   },
   "outputs": [
    {
     "data": {
      "text/plain": [
       "Matrix([\n",
       "[                        r*cos(a)],\n",
       "[                        r*sin(a)],\n",
       "[sqrt(2)*r**2*sin(2*a + pi/4) + 6]])"
      ]
     },
     "execution_count": 456,
     "metadata": {},
     "output_type": "execute_result"
    }
   ],
   "source": [
    "F.subs(R)"
   ]
  },
  {
   "cell_type": "code",
   "execution_count": 457,
   "metadata": {
    "collapsed": false
   },
   "outputs": [
    {
     "data": {
      "text/plain": [
       "-2*sqrt(2)*r**3*sin(a)*cos(a + pi/4) - 2*sqrt(2)*r**3*sin(a + pi/4)*cos(a) + r*(sqrt(2)*r**2*sin(2*a + pi/4) + 6)"
      ]
     },
     "execution_count": 457,
     "metadata": {},
     "output_type": "execute_result"
    }
   ],
   "source": [
    "_.dot(dR)"
   ]
  },
  {
   "cell_type": "code",
   "execution_count": 458,
   "metadata": {
    "collapsed": false
   },
   "outputs": [
    {
     "data": {
      "text/plain": [
       "r*(-sqrt(2)*r**2*sin(2*a + pi/4) + 6)"
      ]
     },
     "execution_count": 458,
     "metadata": {},
     "output_type": "execute_result"
    }
   ],
   "source": [
    "_.simplify()"
   ]
  },
  {
   "cell_type": "code",
   "execution_count": 459,
   "metadata": {
    "collapsed": false
   },
   "outputs": [
    {
     "data": {
      "text/plain": [
       "-4*sqrt(2)*sin(2*a + pi/4) + 12"
      ]
     },
     "execution_count": 459,
     "metadata": {},
     "output_type": "execute_result"
    }
   ],
   "source": [
    "integrate(_, (r,0,2))"
   ]
  },
  {
   "cell_type": "code",
   "execution_count": 460,
   "metadata": {
    "collapsed": false
   },
   "outputs": [
    {
     "data": {
      "text/plain": [
       "24*pi"
      ]
     },
     "execution_count": 460,
     "metadata": {},
     "output_type": "execute_result"
    }
   ],
   "source": [
    "integrate(_, (a,0,2*pi))"
   ]
  },
  {
   "cell_type": "markdown",
   "metadata": {},
   "source": [
    "#### Amb cartesianes"
   ]
  },
  {
   "cell_type": "code",
   "execution_count": 461,
   "metadata": {
    "collapsed": false
   },
   "outputs": [
    {
     "data": {
      "text/plain": [
       "Matrix([\n",
       "[                      x],\n",
       "[                      y],\n",
       "[x**2 + 2*x*y - y**2 + 6]])"
      ]
     },
     "execution_count": 461,
     "metadata": {},
     "output_type": "execute_result"
    }
   ],
   "source": [
    "XY = F.subs(z,f); XY"
   ]
  },
  {
   "cell_type": "code",
   "execution_count": 462,
   "metadata": {
    "collapsed": false
   },
   "outputs": [
    {
     "name": "stdout",
     "output_type": "stream",
     "text": [
      "Matrix([[1], [0], [2*x + 2*y]])\n",
      "Matrix([[0], [1], [2*x - 2*y]])\n"
     ]
    },
    {
     "data": {
      "text/plain": [
       "Matrix([\n",
       "[-2*x - 2*y],\n",
       "[-2*x + 2*y],\n",
       "[         1]])"
      ]
     },
     "execution_count": 462,
     "metadata": {},
     "output_type": "execute_result"
    }
   ],
   "source": [
    "XYx = Matrix([diff(c, x) for c in XY]); print XYx\n",
    "XYy = Matrix([diff(c, y) for c in XY]); print XYy\n",
    "XYx.cross(XYy)"
   ]
  },
  {
   "cell_type": "code",
   "execution_count": 463,
   "metadata": {
    "collapsed": false
   },
   "outputs": [
    {
     "data": {
      "text/plain": [
       "-x**2 - 2*x*y + y**2 + 6"
      ]
     },
     "execution_count": 463,
     "metadata": {},
     "output_type": "execute_result"
    }
   ],
   "source": [
    "F.subs(z,f).dot(_).simplify()"
   ]
  },
  {
   "cell_type": "code",
   "execution_count": 464,
   "metadata": {
    "collapsed": false
   },
   "outputs": [
    {
     "data": {
      "text/plain": [
       "r*(r**2*sin(a)**2 - 2*r**2*sin(a)*cos(a) - r**2*cos(a)**2 + 6)"
      ]
     },
     "execution_count": 464,
     "metadata": {},
     "output_type": "execute_result"
    }
   ],
   "source": [
    "(_.subs({x: r*cos(a), y: r*sin(a)})*r)"
   ]
  },
  {
   "cell_type": "code",
   "execution_count": 465,
   "metadata": {
    "collapsed": false
   },
   "outputs": [
    {
     "data": {
      "text/plain": [
       "4*sin(a)**2 - 8*sin(a)*cos(a) - 4*cos(a)**2 + 12"
      ]
     },
     "execution_count": 465,
     "metadata": {},
     "output_type": "execute_result"
    }
   ],
   "source": [
    "integrate(_, (r,0,2))"
   ]
  },
  {
   "cell_type": "code",
   "execution_count": 466,
   "metadata": {
    "collapsed": false
   },
   "outputs": [
    {
     "data": {
      "text/plain": [
       "24*pi"
      ]
     },
     "execution_count": 466,
     "metadata": {},
     "output_type": "execute_result"
    }
   ],
   "source": [
    "integrate(_, (a,0,2*pi))"
   ]
  },
  {
   "cell_type": "markdown",
   "metadata": {
    "collapsed": true
   },
   "source": [
    "### Usant el teorema de la divergència"
   ]
  },
  {
   "cell_type": "markdown",
   "metadata": {},
   "source": [
    "#### Part de la divergència"
   ]
  },
  {
   "cell_type": "code",
   "execution_count": 468,
   "metadata": {
    "collapsed": false
   },
   "outputs": [
    {
     "data": {
      "text/plain": [
       "3"
      ]
     },
     "execution_count": 468,
     "metadata": {},
     "output_type": "execute_result"
    }
   ],
   "source": [
    "divF = sum(diff(c,u) for c,u in zip(F,[x,y,z])); divF"
   ]
  },
  {
   "cell_type": "code",
   "execution_count": 469,
   "metadata": {
    "collapsed": false
   },
   "outputs": [
    {
     "data": {
      "text/plain": [
       "3*x**2 + 6*x*y - 3*y**2 + 18"
      ]
     },
     "execution_count": 469,
     "metadata": {},
     "output_type": "execute_result"
    }
   ],
   "source": [
    "integrate(divF, (z,0,f))"
   ]
  },
  {
   "cell_type": "code",
   "execution_count": 470,
   "metadata": {
    "collapsed": false
   },
   "outputs": [
    {
     "data": {
      "text/plain": [
       "3*sqrt(2)*r**2*sin(2*a + pi/4) + 18"
      ]
     },
     "execution_count": 470,
     "metadata": {},
     "output_type": "execute_result"
    }
   ],
   "source": [
    "_.subs({x: r*cos(a), y:r*sin(a)}).simplify()"
   ]
  },
  {
   "cell_type": "code",
   "execution_count": 471,
   "metadata": {
    "collapsed": false
   },
   "outputs": [
    {
     "data": {
      "text/plain": [
       "12*sqrt(2)*sin(2*a + pi/4) + 36"
      ]
     },
     "execution_count": 471,
     "metadata": {},
     "output_type": "execute_result"
    }
   ],
   "source": [
    "integrate(_*r, (r,0,2))"
   ]
  },
  {
   "cell_type": "code",
   "execution_count": 472,
   "metadata": {
    "collapsed": false
   },
   "outputs": [
    {
     "data": {
      "text/plain": [
       "72*pi"
      ]
     },
     "execution_count": 472,
     "metadata": {},
     "output_type": "execute_result"
    }
   ],
   "source": [
    "Fdiv = integrate(_, (a,0,2*pi)); Fdiv"
   ]
  },
  {
   "cell_type": "markdown",
   "metadata": {},
   "source": [
    "#### Part de l'area lateral"
   ]
  },
  {
   "cell_type": "code",
   "execution_count": 476,
   "metadata": {
    "collapsed": false
   },
   "outputs": [
    {
     "name": "stdout",
     "output_type": "stream",
     "text": [
      "{y: 2*sin(a), x: 2*cos(a)}\n",
      "Matrix([[2*cos(a)], [2*sin(a)], [0]])\n"
     ]
    },
    {
     "data": {
      "text/plain": [
       "4"
      ]
     },
     "execution_count": 476,
     "metadata": {},
     "output_type": "execute_result"
    }
   ],
   "source": [
    "print S\n",
    "print dS\n",
    "F.subs(S).dot(dS).simplify()"
   ]
  },
  {
   "cell_type": "code",
   "execution_count": 477,
   "metadata": {
    "collapsed": false
   },
   "outputs": [
    {
     "data": {
      "text/plain": [
       "-16*sin(a)**2 + 32*sin(a)*cos(a) + 16*cos(a)**2 + 24"
      ]
     },
     "execution_count": 477,
     "metadata": {},
     "output_type": "execute_result"
    }
   ],
   "source": [
    "integrate(_, (z,0,f.subs(S)))"
   ]
  },
  {
   "cell_type": "code",
   "execution_count": 478,
   "metadata": {
    "collapsed": false
   },
   "outputs": [
    {
     "data": {
      "text/plain": [
       "48*pi"
      ]
     },
     "execution_count": 478,
     "metadata": {},
     "output_type": "execute_result"
    }
   ],
   "source": [
    "FL = integrate(_, (a,0,2*pi)); FL"
   ]
  },
  {
   "cell_type": "markdown",
   "metadata": {},
   "source": [
    "#### Tapa inferior"
   ]
  },
  {
   "cell_type": "code",
   "execution_count": 479,
   "metadata": {
    "collapsed": false
   },
   "outputs": [
    {
     "name": "stdout",
     "output_type": "stream",
     "text": [
      "Matrix([[cos(a)], [sin(a)], [0]])\n",
      "Matrix([[-r*sin(a)], [r*cos(a)], [0]])\n",
      "Matrix([[0], [0], [r]])\n"
     ]
    },
    {
     "data": {
      "text/plain": [
       "0"
      ]
     },
     "execution_count": 479,
     "metadata": {},
     "output_type": "execute_result"
    }
   ],
   "source": [
    "T = {x: r*cos(a), y: r*sin(a), z: 0}\n",
    "Tr = Matrix([diff(c.subs(T),r) for c in (x,y,z)]); print Tr\n",
    "Ta = Matrix([diff(c.subs(T),a) for c in (x,y,z)]); print Ta\n",
    "dT = Tr.cross(Ta)\n",
    "dT.simplify(); print dT\n",
    "FI = F.subs(T).dot(dT); FI"
   ]
  },
  {
   "cell_type": "code",
   "execution_count": 480,
   "metadata": {
    "collapsed": false
   },
   "outputs": [
    {
     "data": {
      "text/plain": [
       "24*pi"
      ]
     },
     "execution_count": 480,
     "metadata": {},
     "output_type": "execute_result"
    }
   ],
   "source": [
    "Fdiv - FL + FI"
   ]
  },
  {
   "cell_type": "code",
   "execution_count": null,
   "metadata": {
    "collapsed": true
   },
   "outputs": [],
   "source": [
    "from sympy.plotting import plot3d_parametric_surface"
   ]
  },
  {
   "cell_type": "code",
   "execution_count": null,
   "metadata": {
    "collapsed": false
   },
   "outputs": [],
   "source": [
    "w = symbols('w', real=True)"
   ]
  },
  {
   "cell_type": "code",
   "execution_count": null,
   "metadata": {
    "collapsed": false
   },
   "outputs": [],
   "source": [
    "pS = plot3d_parametric_surface(x.subs(R), y.subs(R), z.subs(R), (r,0,2), (a,0,2*pi))"
   ]
  },
  {
   "cell_type": "code",
   "execution_count": null,
   "metadata": {
    "collapsed": false
   },
   "outputs": [],
   "source": [
    "pL = plot3d_parametric_surface(x.subs(S), y.subs(S), w*f.subs(S), (a,0,2*pi), (w,0,1))"
   ]
  },
  {
   "cell_type": "code",
   "execution_count": null,
   "metadata": {
    "collapsed": false
   },
   "outputs": [],
   "source": [
    "pS.extend(pL)"
   ]
  },
  {
   "cell_type": "code",
   "execution_count": null,
   "metadata": {
    "collapsed": false
   },
   "outputs": [],
   "source": [
    "pS.show()"
   ]
  },
  {
   "cell_type": "code",
   "execution_count": null,
   "metadata": {
    "collapsed": false
   },
   "outputs": [],
   "source": [
    "z"
   ]
  },
  {
   "cell_type": "code",
   "execution_count": null,
   "metadata": {
    "collapsed": true
   },
   "outputs": [],
   "source": []
  }
 ],
 "metadata": {
  "kernelspec": {
   "display_name": "Python 2",
   "language": "python",
   "name": "python2"
  },
  "language_info": {
   "codemirror_mode": {
    "name": "ipython",
    "version": 2
   },
   "file_extension": ".py",
   "mimetype": "text/x-python",
   "name": "python",
   "nbconvert_exporter": "python",
   "pygments_lexer": "ipython2",
   "version": "2.7.10"
  }
 },
 "nbformat": 4,
 "nbformat_minor": 0
}
