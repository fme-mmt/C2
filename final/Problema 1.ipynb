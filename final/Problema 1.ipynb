{
 "cells": [
  {
   "cell_type": "code",
   "execution_count": 1,
   "metadata": {
    "collapsed": false
   },
   "outputs": [],
   "source": [
    "from sympy import sin, cos, pi, symbols, Eq\n",
    "from sympy import solve, Matrix, sqrt, diff"
   ]
  },
  {
   "cell_type": "markdown",
   "metadata": {},
   "source": [
    "## (a) Parametrització "
   ]
  },
  {
   "cell_type": "code",
   "execution_count": 2,
   "metadata": {
    "collapsed": false
   },
   "outputs": [],
   "source": [
    "x, y, z, t = symbols('x y z t', real=True)"
   ]
  },
  {
   "cell_type": "code",
   "execution_count": 26,
   "metadata": {
    "collapsed": false
   },
   "outputs": [
    {
     "data": {
      "text/plain": [
       "[x**2 + y**2 == 1, y**2 + z**2 == 1]"
      ]
     },
     "execution_count": 26,
     "metadata": {},
     "output_type": "execute_result"
    }
   ],
   "source": [
    "eqs = [Eq(x**2 + y**2, 1), Eq(y**2 + z**2, 1)]; eqs"
   ]
  },
  {
   "cell_type": "markdown",
   "metadata": {},
   "source": [
    "De la primera equació es veu que podem usar $x = \\cos t$ i $y = \\sin t$ per a $t\\in[0,2\\pi]$ com de costum.\n",
    "Restant les 2 equacions obtenim que $z=\\pm x$.\n",
    "Alternativement es pot substituir $y$ a la segona i deduiriem també que $z = \\pm\\cos t$"
   ]
  },
  {
   "cell_type": "code",
   "execution_count": 4,
   "metadata": {
    "collapsed": false
   },
   "outputs": [],
   "source": [
    "r1 = {x:cos(t), y:sin(t),z: -cos(t)}\n",
    "r2 = {x:cos(t), y:sin(t),z: cos(t)}"
   ]
  },
  {
   "cell_type": "markdown",
   "metadata": {},
   "source": [
    "Les dues corbes parametritzades compleixen les equacions:"
   ]
  },
  {
   "cell_type": "code",
   "execution_count": 5,
   "metadata": {
    "collapsed": false
   },
   "outputs": [],
   "source": [
    "for r in (r1,r2):\n",
    "    assert all(e.subs(r).simplify() for e in eqs)"
   ]
  },
  {
   "cell_type": "markdown",
   "metadata": {},
   "source": [
    "## (b) Punts d'intersecció"
   ]
  },
  {
   "cell_type": "markdown",
   "metadata": {},
   "source": [
    "Igualem les components de $r_1(t)=r_2(s)$ i eliminem la solució trivial $s=t$."
   ]
  },
  {
   "cell_type": "code",
   "execution_count": 25,
   "metadata": {
    "collapsed": false
   },
   "outputs": [
    {
     "data": {
      "text/plain": [
       "[cos(t) == cos(s), sin(t) == sin(s), -cos(t) == cos(s)]"
      ]
     },
     "execution_count": 25,
     "metadata": {},
     "output_type": "execute_result"
    }
   ],
   "source": [
    "s = symbols('s', real=True)\n",
    "eqi = []\n",
    "for c in (x,y,z):\n",
    "    e = Eq(c.subs(r1), c.subs(r2).subs(t,s))\n",
    "    eqi.append(e)\n",
    "eqi"
   ]
  },
  {
   "cell_type": "markdown",
   "metadata": {},
   "source": [
    "Les dues primeres equacions conjuntament forcen que $s=t$, però llavors la tercera diu $-\\cos t = \\cos t$.\n",
    "Això només passarà si $\\cos t = 0$, és a dir si $t= \\pi/2, 3\\pi/2$."
   ]
  },
  {
   "cell_type": "code",
   "execution_count": 8,
   "metadata": {
    "collapsed": false
   },
   "outputs": [
    {
     "name": "stdout",
     "output_type": "stream",
     "text": [
      "(0, 1, 0)\n",
      "(0, -1, 0)\n"
     ]
    }
   ],
   "source": [
    "ti = (pi/2, 3*pi/2)\n",
    "punt = Matrix([x,y,z])\n",
    "p1 = punt.subs(r1)\n",
    "p2 = punt.subs(r2)\n",
    "\n",
    "for u in ti: \n",
    "    assert p1.subs(t,u) == p2.subs(t,u)\n",
    "    print tuple(p1.subs(t,u))"
   ]
  },
  {
   "cell_type": "markdown",
   "metadata": {},
   "source": [
    "## (c) Extrems dels radis curvatura"
   ]
  },
  {
   "cell_type": "markdown",
   "metadata": {},
   "source": [
    "Observem que les dues corbes són isomètriques (via $z\\mapsto -z$), per tant només cal estudiar-ne una.\n",
    "\n",
    "$\\vec r'(t)$ i $\\vec r''(t)$ són"
   ]
  },
  {
   "cell_type": "code",
   "execution_count": 9,
   "metadata": {
    "collapsed": false
   },
   "outputs": [
    {
     "name": "stdout",
     "output_type": "stream",
     "text": [
      "Matrix([[-sin(t)], [cos(t)], [-sin(t)]])\n",
      "Matrix([[-cos(t)], [-sin(t)], [-cos(t)]])\n"
     ]
    }
   ],
   "source": [
    "rd = p2.diff(t); print rd\n",
    "rdd = rd.diff(t); print rdd"
   ]
  },
  {
   "cell_type": "markdown",
   "metadata": {},
   "source": [
    "La norma del vector tangent és (_celeritat_):"
   ]
  },
  {
   "cell_type": "code",
   "execution_count": 10,
   "metadata": {
    "collapsed": false
   },
   "outputs": [
    {
     "data": {
      "text/plain": [
       "sqrt(2*sin(t)**2 + cos(t)**2)"
      ]
     },
     "execution_count": 10,
     "metadata": {},
     "output_type": "execute_result"
    }
   ],
   "source": [
    "rd.norm()"
   ]
  },
  {
   "cell_type": "code",
   "execution_count": 11,
   "metadata": {
    "collapsed": false
   },
   "outputs": [
    {
     "data": {
      "text/plain": [
       "sqrt(sin(t)**2 + 1)"
      ]
     },
     "execution_count": 11,
     "metadata": {},
     "output_type": "execute_result"
    }
   ],
   "source": [
    "_.simplify()"
   ]
  },
  {
   "cell_type": "code",
   "execution_count": 12,
   "metadata": {
    "collapsed": false
   },
   "outputs": [
    {
     "data": {
      "text/plain": [
       "Matrix([\n",
       "[-sin(t)**2 - cos(t)**2],\n",
       "[                     0],\n",
       "[ sin(t)**2 + cos(t)**2]])"
      ]
     },
     "execution_count": 12,
     "metadata": {},
     "output_type": "execute_result"
    }
   ],
   "source": [
    "rd.cross(rdd)"
   ]
  },
  {
   "cell_type": "code",
   "execution_count": 13,
   "metadata": {
    "collapsed": false
   },
   "outputs": [
    {
     "data": {
      "text/plain": [
       "sqrt(2)"
      ]
     },
     "execution_count": 13,
     "metadata": {},
     "output_type": "execute_result"
    }
   ],
   "source": [
    "_.norm().simplify()"
   ]
  },
  {
   "cell_type": "code",
   "execution_count": 14,
   "metadata": {
    "collapsed": false
   },
   "outputs": [
    {
     "data": {
      "text/plain": [
       "sqrt(2)/(2*sin(t)**2 + cos(t)**2)**(3/2)"
      ]
     },
     "execution_count": 14,
     "metadata": {},
     "output_type": "execute_result"
    }
   ],
   "source": [
    "_/rd.norm()**3"
   ]
  },
  {
   "cell_type": "code",
   "execution_count": 15,
   "metadata": {
    "collapsed": false
   },
   "outputs": [
    {
     "data": {
      "text/plain": [
       "sqrt(2)/(sin(t)**2 + 1)**(3/2)"
      ]
     },
     "execution_count": 15,
     "metadata": {},
     "output_type": "execute_result"
    }
   ],
   "source": [
    "kappa = _.simplify(); kappa"
   ]
  },
  {
   "cell_type": "markdown",
   "metadata": {},
   "source": [
    "el _radi de curvatura_ és $1/\\kappa$:"
   ]
  },
  {
   "cell_type": "code",
   "execution_count": 16,
   "metadata": {
    "collapsed": false
   },
   "outputs": [
    {
     "data": {
      "text/plain": [
       "sqrt(2)*(sin(t)**2 + 1)**(3/2)/2"
      ]
     },
     "execution_count": 16,
     "metadata": {},
     "output_type": "execute_result"
    }
   ],
   "source": [
    "1/kappa"
   ]
  },
  {
   "cell_type": "markdown",
   "metadata": {},
   "source": [
    "D'aquí és veu que els extrems seran quan $\\sin t=0$ o $\\sin t =\\pm1$:"
   ]
  },
  {
   "cell_type": "code",
   "execution_count": 17,
   "metadata": {
    "collapsed": false
   },
   "outputs": [
    {
     "data": {
      "text/plain": [
       "[sqrt(2)/2, 2]"
      ]
     },
     "execution_count": 17,
     "metadata": {},
     "output_type": "execute_result"
    }
   ],
   "source": [
    "[1/kappa.subs(t,u) for u in (0,pi/2)]"
   ]
  },
  {
   "cell_type": "markdown",
   "metadata": {},
   "source": [
    "* Però també es podria derivar i igualar a zero:"
   ]
  },
  {
   "cell_type": "code",
   "execution_count": 19,
   "metadata": {
    "collapsed": false
   },
   "outputs": [
    {
     "data": {
      "text/plain": [
       "3*sqrt(-cos(2*t) + 3)*sin(2*t)/4"
      ]
     },
     "execution_count": 19,
     "metadata": {},
     "output_type": "execute_result"
    }
   ],
   "source": [
    "(1/kappa).diff(t).simplify()"
   ]
  },
  {
   "cell_type": "markdown",
   "metadata": {},
   "source": [
    "... que només s'anul·la quan $t=k\\pi/2$, per a $k=0,1,2,3$."
   ]
  },
  {
   "cell_type": "markdown",
   "metadata": {},
   "source": [
    "## (d) Digueu si les corbes són planes"
   ]
  },
  {
   "cell_type": "markdown",
   "metadata": {},
   "source": [
    "* Una manera directa de fer-ho és observar que $r_1$ és dins del pla $x + z=0$ i que $r_2$ és dins de $x -z = 0$."
   ]
  },
  {
   "cell_type": "markdown",
   "metadata": {},
   "source": [
    "* Una altra manera (molt més llarga) és calcular-ne la _torsió_ i comprovar que doni zero."
   ]
  },
  {
   "cell_type": "code",
   "execution_count": 20,
   "metadata": {
    "collapsed": false
   },
   "outputs": [
    {
     "data": {
      "text/plain": [
       "Matrix([\n",
       "[ sin(t)],\n",
       "[-cos(t)],\n",
       "[ sin(t)]])"
      ]
     },
     "execution_count": 20,
     "metadata": {},
     "output_type": "execute_result"
    }
   ],
   "source": [
    "rddd = rdd.diff(t); rddd"
   ]
  },
  {
   "cell_type": "code",
   "execution_count": 21,
   "metadata": {
    "collapsed": false
   },
   "outputs": [
    {
     "data": {
      "text/plain": [
       "Matrix([\n",
       "[-sin(t),  cos(t), -sin(t)],\n",
       "[-cos(t), -sin(t), -cos(t)],\n",
       "[-cos(t), -sin(t), -cos(t)]])"
      ]
     },
     "execution_count": 21,
     "metadata": {},
     "output_type": "execute_result"
    }
   ],
   "source": [
    "Matrix([u.transpose() for u in (rd,rdd,rdd)])"
   ]
  },
  {
   "cell_type": "code",
   "execution_count": 22,
   "metadata": {
    "collapsed": false
   },
   "outputs": [
    {
     "data": {
      "text/plain": [
       "0"
      ]
     },
     "execution_count": 22,
     "metadata": {},
     "output_type": "execute_result"
    }
   ],
   "source": [
    "_.det()"
   ]
  },
  {
   "cell_type": "markdown",
   "metadata": {},
   "source": [
    "Aquest determinant (que és igual a $(\\vec r'\\times\\vec r'')\\cdot \\vec r'''$) és el que surt al numerador de la fórmula de $\\tau$. Per tant la corba és plana."
   ]
  },
  {
   "cell_type": "markdown",
   "metadata": {},
   "source": [
    "## (e) Radi de la bola més grossa"
   ]
  },
  {
   "cell_type": "markdown",
   "metadata": {},
   "source": [
    "### Per Lagrange"
   ]
  },
  {
   "cell_type": "markdown",
   "metadata": {},
   "source": [
    "Es tracta de trobar quina és la distància mínima a l'origen de coordenades d'un punt de la intersecció dels dos cilindres.\n",
    "Una bola centrada a l'origen amb radi més gran contindrà necessàriament aquest punt i, per tant, ja no serà vàlida.\n",
    "\n",
    "Plantegem la _Laplaciana_ amb dues condicions:\n",
    "$$\\lambda \\left(x^{2} + y^{2} - 1\\right) + \\mu \\left(y^{2} + z^{2} - 1\\right) + x^{2} + y^{2} + z^{2}$$"
   ]
  },
  {
   "cell_type": "code",
   "execution_count": 27,
   "metadata": {
    "collapsed": false
   },
   "outputs": [
    {
     "data": {
      "text/plain": [
       "lambda*(x**2 + y**2 - 1) + mu*(y**2 + z**2 - 1) + x**2 + y**2 + z**2"
      ]
     },
     "execution_count": 27,
     "metadata": {},
     "output_type": "execute_result"
    }
   ],
   "source": [
    "l,m = symbols('lambda mu')\n",
    "from sympy import latex\n",
    "\n",
    "L = x**2 + y**2 + z**2 + sum(g*(e.lhs - e.rhs) for g,e in zip((l,m), eqs)); L"
   ]
  },
  {
   "cell_type": "markdown",
   "metadata": {},
   "source": [
    "El sistema que s'ha de resoldre és $\\nabla L = \\vec0$:"
   ]
  },
  {
   "cell_type": "code",
   "execution_count": 39,
   "metadata": {
    "collapsed": false
   },
   "outputs": [
    {
     "data": {
      "text/plain": [
       "[2*x*(lambda + 1) == 0,\n",
       " 2*y*(lambda + mu + 1) == 0,\n",
       " 2*z*(mu + 1) == 0,\n",
       " x**2 + y**2 - 1 == 0,\n",
       " y**2 + z**2 - 1 == 0]"
      ]
     },
     "execution_count": 39,
     "metadata": {},
     "output_type": "execute_result"
    }
   ],
   "source": [
    "sols = []\n",
    "leqs = [Eq(L.diff(v).factor()) for v in (x,y,z,l,m)]; leqs"
   ]
  },
  {
   "cell_type": "markdown",
   "metadata": {},
   "source": [
    "la tercera equació ens diu que $z=0$ o $\\mu = -1$.\n",
    "\n",
    "Anem cas per cas:"
   ]
  },
  {
   "cell_type": "markdown",
   "metadata": {},
   "source": [
    "* Cas $z=0$:"
   ]
  },
  {
   "cell_type": "code",
   "execution_count": 40,
   "metadata": {
    "collapsed": false
   },
   "outputs": [
    {
     "data": {
      "text/plain": [
       "[2*x*(lambda + 1) == 0,\n",
       " 2*y*(lambda + mu + 1) == 0,\n",
       " x**2 + y**2 - 1 == 0,\n",
       " y**2 - 1 == 0]"
      ]
     },
     "execution_count": 40,
     "metadata": {},
     "output_type": "execute_result"
    }
   ],
   "source": [
    "sol = {z:0}\n",
    "ez = [e.subs(sol) for e in leqs if e.subs(sol) != True]; ez"
   ]
  },
  {
   "cell_type": "markdown",
   "metadata": {},
   "source": [
    "Resolem per a $y$ a la darrera equació:"
   ]
  },
  {
   "cell_type": "code",
   "execution_count": 41,
   "metadata": {
    "collapsed": false
   },
   "outputs": [
    {
     "data": {
      "text/plain": [
       "[{y: -1}, {y: 1}]"
      ]
     },
     "execution_count": 41,
     "metadata": {},
     "output_type": "execute_result"
    }
   ],
   "source": [
    "ys = solve(ez[-1],y, dict=True); ys"
   ]
  },
  {
   "cell_type": "code",
   "execution_count": 42,
   "metadata": {
    "collapsed": false
   },
   "outputs": [
    {
     "name": "stdout",
     "output_type": "stream",
     "text": [
      "{y: -1, z: 0} [2*x*(lambda + 1) == 0, -2*lambda - 2*mu - 2 == 0, x**2 == 0]\n",
      "{y: 1, z: 0} [2*x*(lambda + 1) == 0, 2*lambda + 2*mu + 2 == 0, x**2 == 0]\n"
     ]
    }
   ],
   "source": [
    "for u in ys: \n",
    "    sol.update(u)\n",
    "    print sol,[e.subs(sol) for e in ez if e.subs(sol) != True]"
   ]
  },
  {
   "cell_type": "markdown",
   "metadata": {},
   "source": [
    "Les dues alternatives forcen que $x=0$ a la darrera equació:"
   ]
  },
  {
   "cell_type": "code",
   "execution_count": 43,
   "metadata": {
    "collapsed": false
   },
   "outputs": [
    {
     "name": "stdout",
     "output_type": "stream",
     "text": [
      "(0, -1, 0)\n",
      "[-2*lambda - 2*mu - 2 == 0]\n",
      "(0, 1, 0)\n",
      "[2*lambda + 2*mu + 2 == 0]\n"
     ]
    }
   ],
   "source": [
    "sol[x] = 0\n",
    "for u in ys: \n",
    "    sol.update(u)\n",
    "    sols.append(dict(sol))\n",
    "    print tuple(punt.subs(sol))\n",
    "    print [e.subs(sol) for e in ez if e.subs(sol) != True]"
   ]
  },
  {
   "cell_type": "markdown",
   "metadata": {
    "collapsed": false
   },
   "source": [
    "i les dues alternatives són possibles. Això ens dóna 2 punts.\n",
    "\n",
    "* Cas $\\mu = -1$:"
   ]
  },
  {
   "cell_type": "code",
   "execution_count": 44,
   "metadata": {
    "collapsed": false
   },
   "outputs": [
    {
     "data": {
      "text/plain": [
       "[2*x*(lambda + 1) == 0,\n",
       " 2*lambda*y == 0,\n",
       " x**2 + y**2 - 1 == 0,\n",
       " y**2 + z**2 - 1 == 0]"
      ]
     },
     "execution_count": 44,
     "metadata": {},
     "output_type": "execute_result"
    }
   ],
   "source": [
    "sol = {m: -1}\n",
    "em = [e.subs(sol) for e in leqs if e.subs(sol) != True]; em"
   ]
  },
  {
   "cell_type": "markdown",
   "metadata": {},
   "source": [
    "Observant les dues primeres veiem que $x=0$ o $\\lambda=-1$ combinat amb $\\lambda=0$ o $y=0$.\n",
    "Examinant les alternatives de $\\lambda$:\n",
    "\n",
    "* Cas $\\lambda=0$, $\\mu = -1$:"
   ]
  },
  {
   "cell_type": "code",
   "execution_count": 45,
   "metadata": {
    "collapsed": false
   },
   "outputs": [
    {
     "data": {
      "text/plain": [
       "[2*x == 0, x**2 + y**2 - 1 == 0, y**2 + z**2 - 1 == 0]"
      ]
     },
     "execution_count": 45,
     "metadata": {},
     "output_type": "execute_result"
    }
   ],
   "source": [
    "sol.update({l: 0})\n",
    "[e.subs(sol) for e in leqs if e.subs(sol) != True]"
   ]
  },
  {
   "cell_type": "markdown",
   "metadata": {},
   "source": [
    "d'aquí es deduix que $x=0$:"
   ]
  },
  {
   "cell_type": "code",
   "execution_count": 46,
   "metadata": {
    "collapsed": false
   },
   "outputs": [
    {
     "data": {
      "text/plain": [
       "{y**2 - 1 == 0, y**2 + z**2 - 1 == 0}"
      ]
     },
     "execution_count": 46,
     "metadata": {},
     "output_type": "execute_result"
    }
   ],
   "source": [
    "sol.update({x: 0})\n",
    "set(e.subs(sol) for e in leqs if e.subs(sol) != True)"
   ]
  },
  {
   "cell_type": "markdown",
   "metadata": {},
   "source": [
    "Ara resulta que $y^2=1$, amb la qual cosa $z=0$:"
   ]
  },
  {
   "cell_type": "code",
   "execution_count": 47,
   "metadata": {
    "collapsed": false
   },
   "outputs": [
    {
     "data": {
      "text/plain": [
       "{y**2 - 1 == 0}"
      ]
     },
     "execution_count": 47,
     "metadata": {},
     "output_type": "execute_result"
    }
   ],
   "source": [
    "sol.update({z:0})\n",
    "set(e.subs(sol) for e in leqs if e.subs(sol) != True)"
   ]
  },
  {
   "cell_type": "code",
   "execution_count": 48,
   "metadata": {
    "collapsed": false
   },
   "outputs": [
    {
     "data": {
      "text/plain": [
       "[{y: -1}, {y: 1}]"
      ]
     },
     "execution_count": 48,
     "metadata": {},
     "output_type": "execute_result"
    }
   ],
   "source": [
    "solve(_, dict=True)"
   ]
  },
  {
   "cell_type": "markdown",
   "metadata": {},
   "source": [
    "i obtenim els punts següents (que, de fet, ja havien sortit):"
   ]
  },
  {
   "cell_type": "code",
   "execution_count": 49,
   "metadata": {
    "collapsed": false
   },
   "outputs": [
    {
     "name": "stdout",
     "output_type": "stream",
     "text": [
      "(0, -1, 0)\n",
      "(0, 1, 0)\n"
     ]
    }
   ],
   "source": [
    "for u in _:\n",
    "    sol.update(u)\n",
    "    print tuple(punt.subs(sol))\n",
    "    sols.append(dict(sol))"
   ]
  },
  {
   "cell_type": "markdown",
   "metadata": {},
   "source": [
    "* Cas $\\lambda = \\mu = -1$:"
   ]
  },
  {
   "cell_type": "code",
   "execution_count": 50,
   "metadata": {
    "collapsed": false
   },
   "outputs": [
    {
     "data": {
      "text/plain": [
       "{-2*y == 0, y**2 + z**2 - 1 == 0, x**2 + y**2 - 1 == 0}"
      ]
     },
     "execution_count": 50,
     "metadata": {},
     "output_type": "execute_result"
    }
   ],
   "source": [
    "sol = {m: -1, l:-1}\n",
    "set(e.subs(sol) for e in leqs if e.subs(sol) != True)"
   ]
  },
  {
   "cell_type": "markdown",
   "metadata": {},
   "source": [
    "Ara veiem que per força $y=0$:"
   ]
  },
  {
   "cell_type": "code",
   "execution_count": 51,
   "metadata": {
    "collapsed": false
   },
   "outputs": [
    {
     "data": {
      "text/plain": [
       "{x**2 - 1 == 0, z**2 - 1 == 0}"
      ]
     },
     "execution_count": 51,
     "metadata": {},
     "output_type": "execute_result"
    }
   ],
   "source": [
    "sol[y] = 0\n",
    "set(e.subs(sol) for e in leqs if e.subs(sol) != True)"
   ]
  },
  {
   "cell_type": "code",
   "execution_count": 52,
   "metadata": {
    "collapsed": false
   },
   "outputs": [
    {
     "data": {
      "text/plain": [
       "[{x: -1, z: -1}, {x: -1, z: 1}, {x: 1, z: -1}, {x: 1, z: 1}]"
      ]
     },
     "execution_count": 52,
     "metadata": {},
     "output_type": "execute_result"
    }
   ],
   "source": [
    "solve(_, dict=True)"
   ]
  },
  {
   "cell_type": "markdown",
   "metadata": {},
   "source": [
    "Això ens porta a $x=\\pm1$, $z=\\pm1$ i obtenim els punts:"
   ]
  },
  {
   "cell_type": "code",
   "execution_count": 53,
   "metadata": {
    "collapsed": false
   },
   "outputs": [
    {
     "name": "stdout",
     "output_type": "stream",
     "text": [
      "(-1, 0, -1)\n",
      "(-1, 0, 1)\n",
      "(1, 0, -1)\n",
      "(1, 0, 1)\n"
     ]
    }
   ],
   "source": [
    "for u in _:\n",
    "    sol.update(u)\n",
    "    print tuple(punt.subs(sol))\n",
    "    sols.append(dict(sol))"
   ]
  },
  {
   "cell_type": "markdown",
   "metadata": {},
   "source": [
    "ja hem mirat totes les combinacions.\n",
    "Ara el que queda és avaluar la distància a cada punt possible i quedar-nos amb el valor més petit:"
   ]
  },
  {
   "cell_type": "code",
   "execution_count": 54,
   "metadata": {
    "collapsed": false
   },
   "outputs": [
    {
     "data": {
      "text/plain": [
       "sqrt(x**2 + y**2 + z**2)"
      ]
     },
     "execution_count": 54,
     "metadata": {},
     "output_type": "execute_result"
    }
   ],
   "source": [
    "f = punt.norm(); f"
   ]
  },
  {
   "cell_type": "code",
   "execution_count": 55,
   "metadata": {
    "collapsed": false
   },
   "outputs": [
    {
     "name": "stdout",
     "output_type": "stream",
     "text": [
      "1 (0, -1, 0)\n",
      "1 (0, 1, 0)\n",
      "1 (0, -1, 0)\n",
      "1 (0, 1, 0)\n",
      "sqrt(2) (-1, 0, -1)\n",
      "sqrt(2) (-1, 0, 1)\n",
      "sqrt(2) (1, 0, -1)\n",
      "sqrt(2) (1, 0, 1)\n"
     ]
    }
   ],
   "source": [
    "for s in sols:\n",
    "    d = f.subs(s)\n",
    "    print d, tuple(punt.subs(s))"
   ]
  },
  {
   "cell_type": "markdown",
   "metadata": {},
   "source": [
    "### Directament"
   ]
  },
  {
   "cell_type": "markdown",
   "metadata": {},
   "source": [
    "Aquesta alternativa no és legal ja que es demanava que és fes per _Lagrange_ però correcta:"
   ]
  },
  {
   "cell_type": "code",
   "execution_count": 57,
   "metadata": {
    "collapsed": false
   },
   "outputs": [
    {
     "data": {
      "text/plain": [
       "sin(t)**2 + 2*cos(t)**2"
      ]
     },
     "execution_count": 57,
     "metadata": {},
     "output_type": "execute_result"
    }
   ],
   "source": [
    "d2 = punt.subs(r1).norm()**2; d2"
   ]
  },
  {
   "cell_type": "code",
   "execution_count": 58,
   "metadata": {
    "collapsed": false
   },
   "outputs": [
    {
     "data": {
      "text/plain": [
       "-2*sin(t)*cos(t)"
      ]
     },
     "execution_count": 58,
     "metadata": {},
     "output_type": "execute_result"
    }
   ],
   "source": [
    "d2.diff(t)"
   ]
  },
  {
   "cell_type": "code",
   "execution_count": 59,
   "metadata": {
    "collapsed": false
   },
   "outputs": [
    {
     "name": "stdout",
     "output_type": "stream",
     "text": [
      "0 (1, 0, -1) sqrt(2)\n",
      "pi/2 (0, 1, 0) 1\n",
      "pi (-1, 0, 1) sqrt(2)\n",
      "3*pi/2 (0, -1, 0) 1\n"
     ]
    }
   ],
   "source": [
    "for u in solve(_,t):\n",
    "    print u, tuple(punt.subs(r1).subs(t,u)), sqrt(d2.subs(t,u))"
   ]
  }
 ],
 "metadata": {
  "kernelspec": {
   "display_name": "Python 2",
   "language": "python",
   "name": "python2"
  },
  "language_info": {
   "codemirror_mode": {
    "name": "ipython",
    "version": 2
   },
   "file_extension": ".py",
   "mimetype": "text/x-python",
   "name": "python",
   "nbconvert_exporter": "python",
   "pygments_lexer": "ipython2",
   "version": "2.7.10"
  }
 },
 "nbformat": 4,
 "nbformat_minor": 0
}
